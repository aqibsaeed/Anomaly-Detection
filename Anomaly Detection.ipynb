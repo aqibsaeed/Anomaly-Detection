{
 "cells": [
  {
   "cell_type": "markdown",
   "metadata": {},
   "source": [
    "# Anomaly Detection Using Gaussian Distribution"
   ]
  },
  {
   "cell_type": "code",
   "execution_count": 4,
   "metadata": {
    "collapsed": true
   },
   "outputs": [],
   "source": [
    "####################################################################################################\n",
    "####### The original method is a neat method which seems to work fine for small data sets ##########\n",
    "#######   but fails for large or real world data sets where there are lotsa variables. Hence  ######\n",
    "#######   I have modified it.  So what I do is to select only the Numeric features in the data set\n",
    "#######   and feed the Features to this. However you have to make sure you \"normalize\" the features.\n",
    "####################################################################################################"
   ]
  },
  {
   "cell_type": "code",
   "execution_count": 5,
   "metadata": {
    "collapsed": true
   },
   "outputs": [],
   "source": [
    "import matplotlib.pyplot as plt\n",
    "import numpy as np\n",
    "import pandas as pd\n",
    "from numpy import genfromtxt\n",
    "from scipy.stats import multivariate_normal\n",
    "from sklearn.metrics import f1_score\n",
    "import warnings \n",
    "warnings.filterwarnings(\"ignore\")"
   ]
  },
  {
   "cell_type": "code",
   "execution_count": 6,
   "metadata": {
    "collapsed": false
   },
   "outputs": [],
   "source": [
    "########################## Enter the input Files and the Target Variable here ##################\n",
    "sep = ','   ##### Enter the type of Separator in your CSV file. Could be Comma, Tab, etc.\n",
    "target = '__________'  #### Enter the name of the Target Variable here\n",
    "tr_file = '___________________.csv'   ###### Enter the name of the Entire Data Set here. The ###\n",
    "######## Program will automatically split it into tr_data, cv_data and gt_data files. ##########"
   ]
  },
  {
   "cell_type": "code",
   "execution_count": 7,
   "metadata": {
    "collapsed": true
   },
   "outputs": [],
   "source": [
    "plt.style.use('ggplot')\n",
    "plt.rcParams['font.family'] = 'serif'\n",
    "plt.rcParams['font.serif'] = 'Ubuntu'\n",
    "plt.rcParams['font.monospace'] = 'Ubuntu Mono'\n",
    "plt.rcParams['font.size'] = 12\n",
    "plt.rcParams['axes.labelsize'] = 11\n",
    "plt.rcParams['axes.labelweight'] = 'bold'\n",
    "plt.rcParams['axes.titlesize'] = 12\n",
    "plt.rcParams['xtick.labelsize'] = 9\n",
    "plt.rcParams['ytick.labelsize'] = 9\n",
    "plt.rcParams['legend.fontsize'] = 11\n",
    "plt.rcParams['figure.titlesize'] = 13"
   ]
  },
  {
   "cell_type": "code",
   "execution_count": 36,
   "metadata": {
    "collapsed": true
   },
   "outputs": [],
   "source": [
    "def read_dataset(filePath,delimiter=','):\n",
    "    return genfromtxt(filePath, delimiter=delimiter)\n",
    "\n",
    "def feature_normalize(dataset):\n",
    "    mu = np.mean(dataset,axis=0)\n",
    "    sigma = np.std(dataset,axis=0)\n",
    "    return (dataset - mu)/sigma\n",
    "\n",
    "def estimateGaussian(dataset):\n",
    "    mu = np.mean(dataset, axis=0)\n",
    "    sigma = np.cov(dataset.T)\n",
    "    return mu, sigma\n",
    "    \n",
    "def multivariateGaussian(dataset,mu,sigma):\n",
    "    p = multivariate_normal(mean=mu, cov=sigma)\n",
    "    return p.pdf(dataset)\n",
    "\n",
    "def select_num_columns(dataset):\n",
    "    cols_list = []\n",
    "    for col in dataset.columns:\n",
    "        if dataset[col].dtype=='O' or len(dataset[col].value_counts())<=2:\n",
    "            print('   Dropping Column: %s' %col)\n",
    "            continue\n",
    "        else:\n",
    "            cols_list.append(col)\n",
    "    return dataset[cols_list], cols_list\n",
    "\n",
    "def selectThresholdByCV(probs,gt):\n",
    "    best_epsilon = 0\n",
    "    best_f1 = 0\n",
    "    f = 0\n",
    "    stepsize = (max(probs) - min(probs)) / 1000;\n",
    "    epsilons = np.arange(min(probs),max(probs),stepsize)\n",
    "    for epsilon in np.nditer(epsilons):\n",
    "        predictions = (probs < epsilon) \n",
    "        f = f1_score(gt, predictions,average='binary')\n",
    "        if f > best_f1:\n",
    "            best_f1 = f\n",
    "            best_epsilon = epsilon\n",
    "    \n",
    "    return best_f1, best_epsilon"
   ]
  },
  {
   "cell_type": "code",
   "execution_count": 40,
   "metadata": {
    "collapsed": false,
    "scrolled": false
   },
   "outputs": [],
   "source": [
    "import copy\n",
    "import pdb\n",
    "def load_data(trainfile, sep, target, cvfile=None,gtfile=None):\n",
    "    codes_list = ['utf-8','iso-8859-1','cp1252','latin1']\n",
    "    for codex in codes_list:\n",
    "        try:\n",
    "            tr_data = pd.read_csv(trainfile,sep=sep,encoding=codex,index_col=None)\n",
    "        except:\n",
    "            continue\n",
    "    nrows = int(tr_data.shape[0]/3)\n",
    "    print('Number of datapoints in training set: %d' % (tr_data.shape[0]))\n",
    "    print('Number of dimensions/features: %d' % (tr_data.shape[1]))\n",
    "    nrows2 = nrows*2\n",
    "    print('  Selecting only those dimensions/features that are numeric...')\n",
    "    for g, df in tr_data.groupby(np.arange(len(tr_data)) // nrows):  \n",
    "        if g == 0:\n",
    "            tr_data = copy.deepcopy(df)\n",
    "            #pdb.set_trace()\n",
    "            if tr_data[target].dtype=='O':\n",
    "                tr_data[target] = tr_data[target].apply(lambda x: 1 if x=='Y' else 0)\n",
    "            zero_mask = tr_data[target]==0\n",
    "            tr_data = tr_data[zero_mask]\n",
    "            preds = [x for x in tr_data.columns if x not in [target]]\n",
    "            tr_data = tr_data[preds]\n",
    "            tr_data, cols = select_num_columns(tr_data)\n",
    "            tr_data = feature_normalize(tr_data)\n",
    "        elif g == 1:\n",
    "            cv_data = copy.deepcopy(df)\n",
    "            if cv_data[target].dtype=='O':\n",
    "                cv_data[target] = cv_data[target].apply(lambda x: 1 if x=='Y' else 0)\n",
    "            zero_mask = cv_data[target]==0\n",
    "            preds = [x for x in cv_data.columns if x not in [target]]\n",
    "            gt_data = cv_data[target]\n",
    "            cv_data = cv_data[preds]\n",
    "            cv_data = cv_data[cols]\n",
    "            cv_data = feature_normalize(cv_data)\n",
    "        elif g == 2:\n",
    "            test_data = copy.deepcopy(df)\n",
    "    print('\\nTraining Data', tr_data.shape)\n",
    "    print('\\nCV Data', cv_data.shape)\n",
    "    print('\\nGlobal Truths Data', gt_data.shape)\n",
    "\n",
    "    return tr_data, cv_data, gt_data, test_data  \n",
    "\n",
    "tr_data, cv_data, gt_data, test_data = load_data(tr_file,sep,target)"
   ]
  },
  {
   "cell_type": "code",
   "execution_count": 41,
   "metadata": {
    "collapsed": false
   },
   "outputs": [],
   "source": [
    "mu, sigma = estimateGaussian(np.asarray(tr_data))\n",
    "tr_data = np.asarray(tr_data)\n",
    "tr_data[:5],tr_data.shape"
   ]
  },
  {
   "cell_type": "code",
   "execution_count": 42,
   "metadata": {
    "collapsed": false
   },
   "outputs": [],
   "source": [
    "tr_data.head(3).T"
   ]
  },
  {
   "cell_type": "code",
   "execution_count": 31,
   "metadata": {
    "collapsed": false
   },
   "outputs": [
    {
     "data": {
      "text/plain": [
       "array([  1.27908290e-16,   3.82082861e-15,   7.66063381e-16,\n",
       "         8.11703772e-16,   1.55512098e-15])"
      ]
     },
     "execution_count": 31,
     "metadata": {},
     "output_type": "execute_result"
    }
   ],
   "source": [
    "p = multivariateGaussian(np.asarray(tr_data),mu,sigma)\n",
    "p[:5]"
   ]
  },
  {
   "cell_type": "code",
   "execution_count": 32,
   "metadata": {
    "collapsed": false
   },
   "outputs": [
    {
     "name": "stdout",
     "output_type": "stream",
     "text": [
      "(0.0045001125028125699, 'epsilon=0.0000000000')\n"
     ]
    }
   ],
   "source": [
    "#selecting optimal value of epsilon using cross validation\n",
    "p_cv = multivariateGaussian(cv_data,mu,sigma)\n",
    "fscore, ep = selectThresholdByCV(p_cv,gt_data)\n",
    "print(fscore, 'epsilon=%0.10f' %ep)"
   ]
  },
  {
   "cell_type": "code",
   "execution_count": 33,
   "metadata": {
    "collapsed": false
   },
   "outputs": [
    {
     "data": {
      "text/plain": [
       "(1L, 12658L)"
      ]
     },
     "execution_count": 33,
     "metadata": {},
     "output_type": "execute_result"
    }
   ],
   "source": [
    "#selecting outlier datapoints \n",
    "outliers = np.asarray(np.where(p < ep))\n",
    "outliers.shape"
   ]
  },
  {
   "cell_type": "code",
   "execution_count": 34,
   "metadata": {
    "collapsed": false
   },
   "outputs": [
    {
     "data": {
      "text/plain": [
       "array([[    0,     1,     2, ..., 34541, 34545, 34552]], dtype=int64)"
      ]
     },
     "execution_count": 34,
     "metadata": {},
     "output_type": "execute_result"
    }
   ],
   "source": [
    "outliers"
   ]
  },
  {
   "cell_type": "code",
   "execution_count": null,
   "metadata": {
    "collapsed": true
   },
   "outputs": [],
   "source": []
  }
 ],
 "metadata": {
  "kernelspec": {
   "display_name": "Python 2",
   "language": "python",
   "name": "python2"
  },
  "language_info": {
   "codemirror_mode": {
    "name": "ipython",
    "version": 2
   },
   "file_extension": ".py",
   "mimetype": "text/x-python",
   "name": "python",
   "nbconvert_exporter": "python",
   "pygments_lexer": "ipython2",
   "version": "2.7.13"
  }
 },
 "nbformat": 4,
 "nbformat_minor": 2
}
